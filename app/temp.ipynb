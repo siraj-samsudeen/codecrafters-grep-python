{
 "cells": [
  {
   "cell_type": "code",
   "execution_count": 31,
   "metadata": {},
   "outputs": [
    {
     "name": "stdout",
     "output_type": "stream",
     "text": [
      "['\\\\d', ' abcd ', '[^xyz]', ' ab', '[apple]', 'cd ', '\\\\w']\n"
     ]
    }
   ],
   "source": [
    "pattern = \"\\d abcd [^xyz] ab[apple]cd \\w\"\n",
    "special = [\"\\\\\",\"[\" ]\n",
    "tokens = []\n",
    "def init():\n",
    "    global token, len_needed, match_needed\n",
    "    token = \"\"\n",
    "    len_needed = -1\n",
    "    match_needed = \"\"\n",
    "def flush():\n",
    "    # TODO do I really need a global here - do i have to explicitly declare global\n",
    "    # global token\n",
    "    if token:\n",
    "        tokens.append(token)\n",
    "        # print(f\"flushed '{token}'\")\n",
    "        init()\n",
    "\n",
    "for char in pattern:\n",
    "    if char in special:\n",
    "        flush()\n",
    "    token += char\n",
    "\n",
    "    if char == \"\\\\\":\n",
    "        len_needed = 2\n",
    "    elif char == \"[\":\n",
    "        match_needed = \"]\"\n",
    "    \n",
    "    if len_needed == len(token) or char == match_needed:\n",
    "        flush()\n",
    "flush()\n",
    "print(tokens)"
   ]
  },
  {
   "cell_type": "code",
   "execution_count": 37,
   "metadata": {},
   "outputs": [
    {
     "data": {
      "text/plain": [
       "' abcd '"
      ]
     },
     "execution_count": 37,
     "metadata": {},
     "output_type": "execute_result"
    }
   ],
   "source": [
    "input_line = \"1 abcd apple\"\n",
    "input_line[1:1+6]"
   ]
  },
  {
   "cell_type": "code",
   "execution_count": null,
   "metadata": {},
   "outputs": [],
   "source": []
  }
 ],
 "metadata": {
  "kernelspec": {
   "display_name": "Python 3",
   "language": "python",
   "name": "python3"
  },
  "language_info": {
   "codemirror_mode": {
    "name": "ipython",
    "version": 3
   },
   "file_extension": ".py",
   "mimetype": "text/x-python",
   "name": "python",
   "nbconvert_exporter": "python",
   "pygments_lexer": "ipython3",
   "version": "3.11.5"
  }
 },
 "nbformat": 4,
 "nbformat_minor": 2
}
